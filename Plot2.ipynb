{
 "cells": [
  {
   "cell_type": "markdown",
   "metadata": {},
   "source": [
    "Plot 2. Equity between Women and Men Faculty's salary\n",
    "\n",
    "I will compute for 'Salary Equity' which, >100 means women get higher salary than man, <100 mean women get less than man,  and the more close equity to 100 means more equal between women and men faculty's salary \n",
    "\n",
    "As in plot1, I first import data from 'Faculty Compensation_clean.csv' and extract rows with complete data"
   ]
  },
  {
   "cell_type": "code",
   "execution_count": 52,
   "metadata": {},
   "outputs": [],
   "source": [
    "import pandas as pd\n",
    "import numpy as np\n",
    "f=pd.read_csv('Faculty Compensation_clean.csv')\n",
    "f=f.drop(['Unnamed: 0'],axis=1)\n",
    "\n",
    "def complete(row): #return no value is null\n",
    "    for i in row:\n",
    "        if pd.isnull(i):\n",
    "            return False\n",
    "    return True\n",
    "f['Complete']=f.apply(complete, axis=1)\n",
    "f=f.loc[f['Complete']==True, :]"
   ]
  },
  {
   "cell_type": "code",
   "execution_count": 53,
   "metadata": {},
   "outputs": [
    {
     "data": {
      "text/html": [
       "<div>\n",
       "<style scoped>\n",
       "    .dataframe tbody tr th:only-of-type {\n",
       "        vertical-align: middle;\n",
       "    }\n",
       "\n",
       "    .dataframe tbody tr th {\n",
       "        vertical-align: top;\n",
       "    }\n",
       "\n",
       "    .dataframe thead th {\n",
       "        text-align: right;\n",
       "    }\n",
       "</style>\n",
       "<table border=\"1\" class=\"dataframe\">\n",
       "  <thead>\n",
       "    <tr style=\"text-align: right;\">\n",
       "      <th></th>\n",
       "      <th>university</th>\n",
       "      <th>Ave. Salary</th>\n",
       "      <th>Avg. Change</th>\n",
       "      <th>Count</th>\n",
       "      <th>Avg. Compensation</th>\n",
       "      <th>Salary Equity</th>\n",
       "      <th>position</th>\n",
       "      <th>State</th>\n",
       "      <th>Category</th>\n",
       "      <th>Complete</th>\n",
       "    </tr>\n",
       "  </thead>\n",
       "  <tbody>\n",
       "    <tr>\n",
       "      <th>0</th>\n",
       "      <td>Abilene Christian University</td>\n",
       "      <td>89000</td>\n",
       "      <td>1.2</td>\n",
       "      <td>66.0</td>\n",
       "      <td>107300.0</td>\n",
       "      <td>90.4</td>\n",
       "      <td>P</td>\n",
       "      <td>TEXAS</td>\n",
       "      <td>Master</td>\n",
       "      <td>True</td>\n",
       "    </tr>\n",
       "    <tr>\n",
       "      <th>1</th>\n",
       "      <td>Abilene Christian University</td>\n",
       "      <td>71400</td>\n",
       "      <td>0.4</td>\n",
       "      <td>85.0</td>\n",
       "      <td>87800.0</td>\n",
       "      <td>89.6</td>\n",
       "      <td>AP</td>\n",
       "      <td>TEXAS</td>\n",
       "      <td>Master</td>\n",
       "      <td>True</td>\n",
       "    </tr>\n",
       "    <tr>\n",
       "      <th>2</th>\n",
       "      <td>Abilene Christian University</td>\n",
       "      <td>67400</td>\n",
       "      <td>2.5</td>\n",
       "      <td>55.0</td>\n",
       "      <td>81600.0</td>\n",
       "      <td>96.1</td>\n",
       "      <td>aP</td>\n",
       "      <td>TEXAS</td>\n",
       "      <td>Master</td>\n",
       "      <td>True</td>\n",
       "    </tr>\n",
       "    <tr>\n",
       "      <th>3</th>\n",
       "      <td>Abilene Christian University</td>\n",
       "      <td>54400</td>\n",
       "      <td>1.5</td>\n",
       "      <td>44.0</td>\n",
       "      <td>71300.0</td>\n",
       "      <td>100.0</td>\n",
       "      <td>I</td>\n",
       "      <td>TEXAS</td>\n",
       "      <td>Master</td>\n",
       "      <td>True</td>\n",
       "    </tr>\n",
       "    <tr>\n",
       "      <th>4</th>\n",
       "      <td>Adams State University</td>\n",
       "      <td>65600</td>\n",
       "      <td>-0.3</td>\n",
       "      <td>33.0</td>\n",
       "      <td>67700.0</td>\n",
       "      <td>94.8</td>\n",
       "      <td>P</td>\n",
       "      <td>COLORADO</td>\n",
       "      <td>Baccalaureate</td>\n",
       "      <td>True</td>\n",
       "    </tr>\n",
       "  </tbody>\n",
       "</table>\n",
       "</div>"
      ],
      "text/plain": [
       "                      university  Ave. Salary  Avg. Change  Count  \\\n",
       "0  Abilene Christian University         89000          1.2   66.0   \n",
       "1  Abilene Christian University         71400          0.4   85.0   \n",
       "2  Abilene Christian University         67400          2.5   55.0   \n",
       "3  Abilene Christian University         54400          1.5   44.0   \n",
       "4        Adams State University         65600         -0.3   33.0   \n",
       "\n",
       "   Avg. Compensation  Salary Equity position     State       Category  \\\n",
       "0           107300.0           90.4        P     TEXAS         Master   \n",
       "1            87800.0           89.6       AP     TEXAS         Master   \n",
       "2            81600.0           96.1       aP     TEXAS         Master   \n",
       "3            71300.0          100.0        I     TEXAS         Master   \n",
       "4            67700.0           94.8        P  COLORADO  Baccalaureate   \n",
       "\n",
       "   Complete  \n",
       "0      True  \n",
       "1      True  \n",
       "2      True  \n",
       "3      True  \n",
       "4      True  "
      ]
     },
     "execution_count": 53,
     "metadata": {},
     "output_type": "execute_result"
    }
   ],
   "source": [
    "f.head()"
   ]
  },
  {
   "cell_type": "markdown",
   "metadata": {},
   "source": [
    "Now I will group school category and look at their faculty's Salary and Equity"
   ]
  },
  {
   "cell_type": "code",
   "execution_count": 54,
   "metadata": {},
   "outputs": [],
   "source": [
    "Cat_E=f.groupby(['Category'])['Salary Equity'].mean()\n",
    "Cat_S=f.groupby(['Category'])['Ave. Salary'].mean()\n",
    "Cat=pd.concat([Cat_S,Cat_E], axis=1)\n",
    "Cat.columns=['Salary','Equity']\n",
    "Cat=(Cat-Cat.mean())/Cat.std()"
   ]
  },
  {
   "cell_type": "code",
   "execution_count": 55,
   "metadata": {},
   "outputs": [
    {
     "data": {
      "image/png": "[encoded data removed]",
      "text/plain": [
       "<Figure size 432x288 with 1 Axes>"
      ]
     },
     "metadata": {},
     "output_type": "display_data"
    }
   ],
   "source": [
    "plot2_1=Cat.plot(kind='bar',fontsize=15)"
   ]
  },
  {
   "cell_type": "markdown",
   "metadata": {},
   "source": [
    "This data shows that a Doctoral School pays its faculty more but with less equity than other school types.\n",
    "And more important is that Salary and Equity are always in the opposite dirrections, which means higher pey, lower equity"
   ]
  },
  {
   "cell_type": "markdown",
   "metadata": {},
   "source": [
    "Then I group faculty position and look at their Salary and Equity"
   ]
  },
  {
   "cell_type": "code",
   "execution_count": 56,
   "metadata": {},
   "outputs": [],
   "source": [
    "Pos_E=f.groupby(['position'])['Salary Equity'].mean()\n",
    "Pos_S=f.groupby(['position'])['Ave. Salary'].mean()\n",
    "Pos=pd.concat([Pos_S,Pos_E], axis=1)\n",
    "Pos=(Pos-Pos.mean())/Pos.std()\n",
    "Pos.columns=['Salary','Equity' ]"
   ]
  },
  {
   "cell_type": "code",
   "execution_count": 57,
   "metadata": {},
   "outputs": [
    {
     "data": {
      "image/png": "[encoded data removed]",
      "text/plain": [
       "<Figure size 432x288 with 1 Axes>"
      ]
     },
     "metadata": {},
     "output_type": "display_data"
    }
   ],
   "source": [
    "plot1_2=Pos.plot(kind='bar',fontsize=15)"
   ]
  },
  {
   "cell_type": "markdown",
   "metadata": {},
   "source": [
    "As I can see, again, Salary and Equity are in the opposite dirrections, which means higher pey, lower equity"
   ]
  },
  {
   "cell_type": "markdown",
   "metadata": {},
   "source": [
    "So I ploted the salary vs equity map"
   ]
  },
  {
   "cell_type": "code",
   "execution_count": 58,
   "metadata": {},
   "outputs": [
    {
     "data": {
      "image/png": "[encoded data removed]",
      "text/plain": [
       "<Figure size 432x288 with 1 Axes>"
      ]
     },
     "metadata": {},
     "output_type": "display_data"
    }
   ],
   "source": [
    "f['Salary_(K)']=f['Ave. Salary']/1000\n",
    "plot_2=f.plot(x='Salary_(K)', y='Salary Equity',kind='scatter', ylim=[0,250],xlim=[0,260],fontsize=15)"
   ]
  },
  {
   "cell_type": "markdown",
   "metadata": {},
   "source": [
    "This data looks to me at fist glance that women faculty are paid more at lower salary end and mens are payed more at the high pay end. So I want to drow a line with equity =100"
   ]
  },
  {
   "cell_type": "code",
   "execution_count": 59,
   "metadata": {},
   "outputs": [
    {
     "data": {
      "text/plain": [
       "<matplotlib.axes._subplots.AxesSubplot at 0x11e98f4e0>"
      ]
     },
     "execution_count": 59,
     "metadata": {},
     "output_type": "execute_result"
    },
    {
     "data": {
      "image/png": "[encoded data removed]",
      "text/plain": [
       "<Figure size 432x288 with 1 Axes>"
      ]
     },
     "metadata": {},
     "output_type": "display_data"
    }
   ],
   "source": [
    "plot_2=f.plot(x='Salary_(K)', y='Salary Equity',kind='scatter', ylim=[0,250],xlim=[0,260],fontsize=15)\n",
    "Ones=pd.Series(np.ones(260)*100,name='Equal line')\n",
    "Ones.plot(legend=True,color='b')"
   ]
  },
  {
   "cell_type": "markdown",
   "metadata": {},
   "source": [
    "So, I was actually fooled by the scatter plot. With the Equity=100 line, we can see that on both end women are paied less than man and the unequity is worse on the high paying end."
   ]
  },
  {
   "cell_type": "markdown",
   "metadata": {},
   "source": [
    "Now, let me do a linear regression on Salary over Equity"
   ]
  },
  {
   "cell_type": "code",
   "execution_count": 65,
   "metadata": {},
   "outputs": [],
   "source": [
    "import statsmodels.formula.api as smf\n",
    "\n",
    "dataFit=f.loc[:,['Salary Equity', 'Salary_(K)']]\n",
    "dataFit.columns=['A','B']\n",
    "FD=smf.ols(formula=\"A~B\", data=dataFit).fit()"
   ]
  },
  {
   "cell_type": "code",
   "execution_count": 66,
   "metadata": {},
   "outputs": [
    {
     "data": {
      "text/html": [
       "<table class=\"simpletable\">\n",
       "<caption>OLS Regression Results</caption>\n",
       "<tr>\n",
       "  <th>Dep. Variable:</th>            <td>A</td>        <th>  R-squared:         </th> <td>   0.044</td> \n",
       "</tr>\n",
       "<tr>\n",
       "  <th>Model:</th>                   <td>OLS</td>       <th>  Adj. R-squared:    </th> <td>   0.044</td> \n",
       "</tr>\n",
       "<tr>\n",
       "  <th>Method:</th>             <td>Least Squares</td>  <th>  F-statistic:       </th> <td>   135.3</td> \n",
       "</tr>\n",
       "<tr>\n",
       "  <th>Date:</th>             <td>Mon, 23 Jul 2018</td> <th>  Prob (F-statistic):</th> <td>1.34e-30</td> \n",
       "</tr>\n",
       "<tr>\n",
       "  <th>Time:</th>                 <td>03:32:18</td>     <th>  Log-Likelihood:    </th> <td> -10322.</td> \n",
       "</tr>\n",
       "<tr>\n",
       "  <th>No. Observations:</th>      <td>  2907</td>      <th>  AIC:               </th> <td>2.065e+04</td>\n",
       "</tr>\n",
       "<tr>\n",
       "  <th>Df Residuals:</th>          <td>  2905</td>      <th>  BIC:               </th> <td>2.066e+04</td>\n",
       "</tr>\n",
       "<tr>\n",
       "  <th>Df Model:</th>              <td>     1</td>      <th>                     </th>     <td> </td>    \n",
       "</tr>\n",
       "<tr>\n",
       "  <th>Covariance Type:</th>      <td>nonrobust</td>    <th>                     </th>     <td> </td>    \n",
       "</tr>\n",
       "</table>\n",
       "<table class=\"simpletable\">\n",
       "<tr>\n",
       "      <td></td>         <th>coef</th>     <th>std err</th>      <th>t</th>      <th>P>|t|</th>  <th>[0.025</th>    <th>0.975]</th>  \n",
       "</tr>\n",
       "<tr>\n",
       "  <th>Intercept</th> <td>  101.8427</td> <td>    0.488</td> <td>  208.517</td> <td> 0.000</td> <td>  100.885</td> <td>  102.800</td>\n",
       "</tr>\n",
       "<tr>\n",
       "  <th>B</th>         <td>   -0.0660</td> <td>    0.006</td> <td>  -11.632</td> <td> 0.000</td> <td>   -0.077</td> <td>   -0.055</td>\n",
       "</tr>\n",
       "</table>\n",
       "<table class=\"simpletable\">\n",
       "<tr>\n",
       "  <th>Omnibus:</th>       <td>2032.541</td> <th>  Durbin-Watson:     </th>  <td>   1.958</td> \n",
       "</tr>\n",
       "<tr>\n",
       "  <th>Prob(Omnibus):</th>  <td> 0.000</td>  <th>  Jarque-Bera (JB):  </th> <td>123866.394</td>\n",
       "</tr>\n",
       "<tr>\n",
       "  <th>Skew:</th>           <td> 2.667</td>  <th>  Prob(JB):          </th>  <td>    0.00</td> \n",
       "</tr>\n",
       "<tr>\n",
       "  <th>Kurtosis:</th>       <td>34.531</td>  <th>  Cond. No.          </th>  <td>    269.</td> \n",
       "</tr>\n",
       "</table><br/><br/>Warnings:<br/>[1] Standard Errors assume that the covariance matrix of the errors is correctly specified."
      ],
      "text/plain": [
       "<class 'statsmodels.iolib.summary.Summary'>\n",
       "\"\"\"\n",
       "                            OLS Regression Results                            \n",
       "==============================================================================\n",
       "Dep. Variable:                      A   R-squared:                       0.044\n",
       "Model:                            OLS   Adj. R-squared:                  0.044\n",
       "Method:                 Least Squares   F-statistic:                     135.3\n",
       "Date:                Mon, 23 Jul 2018   Prob (F-statistic):           1.34e-30\n",
       "Time:                        03:32:18   Log-Likelihood:                -10322.\n",
       "No. Observations:                2907   AIC:                         2.065e+04\n",
       "Df Residuals:                    2905   BIC:                         2.066e+04\n",
       "Df Model:                           1                                         \n",
       "Covariance Type:            nonrobust                                         \n",
       "==============================================================================\n",
       "                 coef    std err          t      P>|t|      [0.025      0.975]\n",
       "------------------------------------------------------------------------------\n",
       "Intercept    101.8427      0.488    208.517      0.000     100.885     102.800\n",
       "B             -0.0660      0.006    -11.632      0.000      -0.077      -0.055\n",
       "==============================================================================\n",
       "Omnibus:                     2032.541   Durbin-Watson:                   1.958\n",
       "Prob(Omnibus):                  0.000   Jarque-Bera (JB):           123866.394\n",
       "Skew:                           2.667   Prob(JB):                         0.00\n",
       "Kurtosis:                      34.531   Cond. No.                         269.\n",
       "==============================================================================\n",
       "\n",
       "Warnings:\n",
       "[1] Standard Errors assume that the covariance matrix of the errors is correctly specified.\n",
       "\"\"\""
      ]
     },
     "execution_count": 66,
     "metadata": {},
     "output_type": "execute_result"
    }
   ],
   "source": [
    "FD.summary()"
   ]
  },
  {
   "cell_type": "code",
   "execution_count": 67,
   "metadata": {},
   "outputs": [
    {
     "data": {
      "text/plain": [
       "Intercept    101.842681\n",
       "B             -0.065971\n",
       "dtype: float64"
      ]
     },
     "execution_count": 67,
     "metadata": {},
     "output_type": "execute_result"
    }
   ],
   "source": [
    "FD.params"
   ]
  },
  {
   "cell_type": "markdown",
   "metadata": {},
   "source": [
    "The Fitting result 'FD' shows very clear that Salary('B') has a negetive coefficient on Equity('A').\n",
    "Now I want to put both the Equity =100 line and a linear regression fitting line to plot_2"
   ]
  },
  {
   "cell_type": "code",
   "execution_count": 68,
   "metadata": {},
   "outputs": [],
   "source": [
    "Ones=pd.Series(np.ones(260)*100,name='Equal line')\n",
    "Y=pd.DataFrame({'B': range(260)})\n",
    "Fit=FD.predict(Y)\n",
    "Fit.name='Fit line'"
   ]
  },
  {
   "cell_type": "code",
   "execution_count": 69,
   "metadata": {},
   "outputs": [
    {
     "data": {
      "text/plain": [
       "<matplotlib.axes._subplots.AxesSubplot at 0x1222c14a8>"
      ]
     },
     "execution_count": 69,
     "metadata": {},
     "output_type": "execute_result"
    },
    {
     "data": {
      "image/png": "[encoded data removed]",
      "text/plain": [
       "<Figure size 432x288 with 1 Axes>"
      ]
     },
     "metadata": {},
     "output_type": "display_data"
    }
   ],
   "source": [
    "plot_2=f.plot(x='Salary_(K)', y='Salary Equity',kind='scatter')\n",
    "Ones.plot(legend=True,color='b')\n",
    "Fit.plot(legend=True,color='r')"
   ]
  },
  {
   "cell_type": "markdown",
   "metadata": {},
   "source": [
    "In plot_2: dots are scatter data for Salary vs Equity; \n",
    "           Blue line is the Equity=100 line; \n",
    "           Red line is the fitting line from Linear regression. \n",
    "It is very clear that the fitting line is smaller than the Equity=100 line for all Salary range and when the salary goes higher, the Fitting line goes lower. \n",
    "This means that their is still some what prelivage over man in faculty "
   ]
  }
 ],
 "metadata": {
  "kernelspec": {
   "display_name": "Python 3",
   "language": "python",
   "name": "python3"
  },
  "language_info": {
   "codemirror_mode": {
    "name": "ipython",
    "version": 3
   },
   "file_extension": ".py",
   "mimetype": "text/x-python",
   "name": "python",
   "nbconvert_exporter": "python",
   "pygments_lexer": "ipython3",
   "version": "3.6.5"
  }
 },
 "nbformat": 4,
 "nbformat_minor": 2
}
