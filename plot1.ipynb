{
 "cells": [
  {
   "cell_type": "markdown",
   "metadata": {},
   "source": [
    "Plot1. Other incomes over ave compensation\n",
    "\n",
    "import data from 'Faculty Compensation_clean.csv'"
   ]
  },
  {
   "cell_type": "code",
   "execution_count": 1,
   "metadata": {},
   "outputs": [],
   "source": [
    "import pandas as pd\n",
    "f=pd.read_csv('Faculty Compensation_clean.csv')\n",
    "f=f.drop(['Unnamed: 0'],axis=1)"
   ]
  },
  {
   "cell_type": "code",
   "execution_count": 2,
   "metadata": {},
   "outputs": [
    {
     "name": "stdout",
     "output_type": "stream",
     "text": [
      "<class 'pandas.core.frame.DataFrame'>\n",
      "RangeIndex: 3808 entries, 0 to 3807\n",
      "Data columns (total 9 columns):\n",
      "university           3808 non-null object\n",
      "Ave. Salary          3808 non-null int64\n",
      "Avg. Change          3264 non-null float64\n",
      "Count                3807 non-null float64\n",
      "Avg. Compensation    3157 non-null float64\n",
      "Salary Equity        3446 non-null float64\n",
      "position             3808 non-null object\n",
      "State                3808 non-null object\n",
      "Category             3808 non-null object\n",
      "dtypes: float64(4), int64(1), object(4)\n",
      "memory usage: 267.8+ KB\n"
     ]
    }
   ],
   "source": [
    "f.info()"
   ]
  },
  {
   "cell_type": "markdown",
   "metadata": {},
   "source": [
    "Only work on rowdata with complete information."
   ]
  },
  {
   "cell_type": "code",
   "execution_count": 3,
   "metadata": {},
   "outputs": [],
   "source": [
    "def complete(row): #return no value is null\n",
    "    for i in row:\n",
    "        if pd.isnull(i):\n",
    "            return False\n",
    "    return True\n",
    "\n",
    "f['Complete']=f.apply(complete, axis=1)\n",
    "f=f.loc[f['Complete']==True, :]"
   ]
  },
  {
   "cell_type": "code",
   "execution_count": 4,
   "metadata": {},
   "outputs": [
    {
     "name": "stdout",
     "output_type": "stream",
     "text": [
      "<class 'pandas.core.frame.DataFrame'>\n",
      "Int64Index: 2907 entries, 0 to 3807\n",
      "Data columns (total 10 columns):\n",
      "university           2907 non-null object\n",
      "Ave. Salary          2907 non-null int64\n",
      "Avg. Change          2907 non-null float64\n",
      "Count                2907 non-null float64\n",
      "Avg. Compensation    2907 non-null float64\n",
      "Salary Equity        2907 non-null float64\n",
      "position             2907 non-null object\n",
      "State                2907 non-null object\n",
      "Category             2907 non-null object\n",
      "Complete             2907 non-null bool\n",
      "dtypes: bool(1), float64(4), int64(1), object(4)\n",
      "memory usage: 229.9+ KB\n"
     ]
    },
    {
     "data": {
      "text/html": [
       "<div>\n",
       "<style scoped>\n",
       "    .dataframe tbody tr th:only-of-type {\n",
       "        vertical-align: middle;\n",
       "    }\n",
       "\n",
       "    .dataframe tbody tr th {\n",
       "        vertical-align: top;\n",
       "    }\n",
       "\n",
       "    .dataframe thead th {\n",
       "        text-align: right;\n",
       "    }\n",
       "</style>\n",
       "<table border=\"1\" class=\"dataframe\">\n",
       "  <thead>\n",
       "    <tr style=\"text-align: right;\">\n",
       "      <th></th>\n",
       "      <th>university</th>\n",
       "      <th>Ave. Salary</th>\n",
       "      <th>Avg. Change</th>\n",
       "      <th>Count</th>\n",
       "      <th>Avg. Compensation</th>\n",
       "      <th>Salary Equity</th>\n",
       "      <th>position</th>\n",
       "      <th>State</th>\n",
       "      <th>Category</th>\n",
       "      <th>Complete</th>\n",
       "    </tr>\n",
       "  </thead>\n",
       "  <tbody>\n",
       "    <tr>\n",
       "      <th>0</th>\n",
       "      <td>Abilene Christian University</td>\n",
       "      <td>89000</td>\n",
       "      <td>1.2</td>\n",
       "      <td>66.0</td>\n",
       "      <td>107300.0</td>\n",
       "      <td>90.4</td>\n",
       "      <td>P</td>\n",
       "      <td>TEXAS</td>\n",
       "      <td>Master</td>\n",
       "      <td>True</td>\n",
       "    </tr>\n",
       "    <tr>\n",
       "      <th>1</th>\n",
       "      <td>Abilene Christian University</td>\n",
       "      <td>71400</td>\n",
       "      <td>0.4</td>\n",
       "      <td>85.0</td>\n",
       "      <td>87800.0</td>\n",
       "      <td>89.6</td>\n",
       "      <td>AP</td>\n",
       "      <td>TEXAS</td>\n",
       "      <td>Master</td>\n",
       "      <td>True</td>\n",
       "    </tr>\n",
       "    <tr>\n",
       "      <th>2</th>\n",
       "      <td>Abilene Christian University</td>\n",
       "      <td>67400</td>\n",
       "      <td>2.5</td>\n",
       "      <td>55.0</td>\n",
       "      <td>81600.0</td>\n",
       "      <td>96.1</td>\n",
       "      <td>aP</td>\n",
       "      <td>TEXAS</td>\n",
       "      <td>Master</td>\n",
       "      <td>True</td>\n",
       "    </tr>\n",
       "    <tr>\n",
       "      <th>3</th>\n",
       "      <td>Abilene Christian University</td>\n",
       "      <td>54400</td>\n",
       "      <td>1.5</td>\n",
       "      <td>44.0</td>\n",
       "      <td>71300.0</td>\n",
       "      <td>100.0</td>\n",
       "      <td>I</td>\n",
       "      <td>TEXAS</td>\n",
       "      <td>Master</td>\n",
       "      <td>True</td>\n",
       "    </tr>\n",
       "    <tr>\n",
       "      <th>4</th>\n",
       "      <td>Adams State University</td>\n",
       "      <td>65600</td>\n",
       "      <td>-0.3</td>\n",
       "      <td>33.0</td>\n",
       "      <td>67700.0</td>\n",
       "      <td>94.8</td>\n",
       "      <td>P</td>\n",
       "      <td>COLORADO</td>\n",
       "      <td>Baccalaureate</td>\n",
       "      <td>True</td>\n",
       "    </tr>\n",
       "  </tbody>\n",
       "</table>\n",
       "</div>"
      ],
      "text/plain": [
       "                      university  Ave. Salary  Avg. Change  Count  \\\n",
       "0  Abilene Christian University         89000          1.2   66.0   \n",
       "1  Abilene Christian University         71400          0.4   85.0   \n",
       "2  Abilene Christian University         67400          2.5   55.0   \n",
       "3  Abilene Christian University         54400          1.5   44.0   \n",
       "4        Adams State University         65600         -0.3   33.0   \n",
       "\n",
       "   Avg. Compensation  Salary Equity position     State       Category  \\\n",
       "0           107300.0           90.4        P     TEXAS         Master   \n",
       "1            87800.0           89.6       AP     TEXAS         Master   \n",
       "2            81600.0           96.1       aP     TEXAS         Master   \n",
       "3            71300.0          100.0        I     TEXAS         Master   \n",
       "4            67700.0           94.8        P  COLORADO  Baccalaureate   \n",
       "\n",
       "   Complete  \n",
       "0      True  \n",
       "1      True  \n",
       "2      True  \n",
       "3      True  \n",
       "4      True  "
      ]
     },
     "execution_count": 4,
     "metadata": {},
     "output_type": "execute_result"
    }
   ],
   "source": [
    "f.info()\n",
    "f.head()"
   ]
  },
  {
   "cell_type": "markdown",
   "metadata": {},
   "source": [
    "Other_Income is the compensation - salary"
   ]
  },
  {
   "cell_type": "code",
   "execution_count": 5,
   "metadata": {},
   "outputs": [],
   "source": [
    "f['Other_Income']=f['Avg. Compensation']-f['Ave. Salary']"
   ]
  },
  {
   "cell_type": "code",
   "execution_count": 6,
   "metadata": {},
   "outputs": [],
   "source": [
    "f['Ratio']=f['Other_Income']/f['Avg. Compensation']"
   ]
  },
  {
   "cell_type": "markdown",
   "metadata": {},
   "source": [
    "Calculate the total compensation and Other_income grouped by category\n",
    "Normalize the data by mean and std.\n",
    "Plot the bar graph"
   ]
  },
  {
   "cell_type": "code",
   "execution_count": 16,
   "metadata": {},
   "outputs": [],
   "source": [
    "Cat_ratio=f.groupby(['Category'])['Ratio'].mean()\n",
    "Cat_comp=f.groupby(['Category'])['Avg. Compensation'].mean()\n",
    "Cat=pd.concat([Cat_comp,Cat_ratio], axis=1)\n",
    "Cat.columns=['Compensation','Other income']\n",
    "Cat=(Cat-Cat.mean())/Cat.std()"
   ]
  },
  {
   "cell_type": "markdown",
   "metadata": {},
   "source": [
    "Bar graph for ratio of other incomes and compensation grouped by school category"
   ]
  },
  {
   "cell_type": "code",
   "execution_count": 17,
   "metadata": {},
   "outputs": [
    {
     "data": {
      "image/png": "[encoded data removed]",
      "text/plain": [
       "<Figure size 432x288 with 1 Axes>"
      ]
     },
     "metadata": {},
     "output_type": "display_data"
    }
   ],
   "source": [
    "plot1_1=Cat.plot(kind='bar',fontsize=15)"
   ]
  },
  {
   "cell_type": "markdown",
   "metadata": {},
   "source": [
    "Bar graph for ratio of incomes and compensation grouped by position"
   ]
  },
  {
   "cell_type": "code",
   "execution_count": 18,
   "metadata": {},
   "outputs": [],
   "source": [
    "Pos_ratio=f.groupby(['position'])['Ratio'].mean()\n",
    "Pos_comp=f.groupby(['position'])['Avg. Compensation'].mean()\n",
    "Pos=pd.concat([Pos_comp,Pos_ratio], axis=1)\n",
    "Pos.columns=['Compensation','Other income']\n",
    "Pos=(Pos-Pos.mean())/Pos.std()"
   ]
  },
  {
   "cell_type": "code",
   "execution_count": 19,
   "metadata": {},
   "outputs": [
    {
     "data": {
      "image/png": "[encoded data removed]",
      "text/plain": [
       "<Figure size 432x288 with 1 Axes>"
      ]
     },
     "metadata": {},
     "output_type": "display_data"
    }
   ],
   "source": [
    "plot1_2=Pos.plot(kind='bar',fontsize=15)"
   ]
  },
  {
   "cell_type": "code",
   "execution_count": null,
   "metadata": {},
   "outputs": [],
   "source": []
  }
 ],
 "metadata": {
  "kernelspec": {
   "display_name": "Python 3",
   "language": "python",
   "name": "python3"
  },
  "language_info": {
   "codemirror_mode": {
    "name": "ipython",
    "version": 3
   },
   "file_extension": ".py",
   "mimetype": "text/x-python",
   "name": "python",
   "nbconvert_exporter": "python",
   "pygments_lexer": "ipython3",
   "version": "3.6.5"
  }
 },
 "nbformat": 4,
 "nbformat_minor": 2
}
